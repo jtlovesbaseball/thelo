{
 "cells": [
  {
   "cell_type": "code",
   "execution_count": 1,
   "id": "55e56bb5-635f-4185-9f5c-1f72344261bd",
   "metadata": {},
   "outputs": [],
   "source": [
    "import sys\n",
    "sys.path.append('src/')\n",
    "\n",
    "from Song import Song\n",
    "from Key import Key\n",
    "from Time import Time\n",
    "from Signature import Signature\n",
    "from Composer import Composer\n",
    "from IPython.display import Image"
   ]
  },
  {
   "cell_type": "code",
   "execution_count": 2,
   "id": "37d16752-0a63-463b-a1e3-5d9b5d9bf421",
   "metadata": {},
   "outputs": [],
   "source": [
    "# %%timeit\n",
    "#     # Creating the Key Signature, and Time Signature\n",
    "#     k = Key(key='A', tonality='major')\n",
    "#     t = Time(top=4, bottom=4, bpm=69, descriptor=\"Nice\")\n",
    "#     s = Signature(key=k, time=t)\n",
    "    \n",
    "#     # Initializing a song with the signature given above, and generating 1000 random chords\n",
    "#     # Chord Progressions must be valid resolutions/deceptions\n",
    "#     song = Song(\"Hello World in %s %s\" % (k.key, k.tonality), 'JT', s)\n",
    "#     song.generate_chords(n=36)\n",
    "    \n",
    "#     #Create a naive composer to assign the lowest note in the chord the voice can sound\n",
    "#     c = Composer()\n",
    "#     c.learn(song)\n",
    "#     piece = c.compose_fourvoice()\n",
    "    \n",
    "# piece.draw(\"helloworld\")"
   ]
  },
  {
   "cell_type": "code",
   "execution_count": 21,
   "id": "1feaf181-eae5-48eb-931f-759ac5d9a5c7",
   "metadata": {},
   "outputs": [],
   "source": [
    "# Creating the Key Signature, and Time Signature\n",
    "k = Key(key='G', tonality='major')\n",
    "t = Time(top=4, bottom=4, bpm=69, descriptor=\"Nice\")\n",
    "s = Signature(key=k, time=t)\n",
    "    \n",
    "# Initializing a song with the signature given above, and generating 1000 random chords\n",
    "# Chord Progressions must be valid resolutions/deceptions\n",
    "song = Song(\"Random Chord Voicings in %s %s\" % (k.key, k.tonality), 'JT', s)\n",
    "song.generate_chords(n=69)\n",
    "    \n",
    "#Create a naive composer to assign the lowest note in the chord the voice can sound\n",
    "composer = Composer()\n",
    "composer.learn(song)\n",
    "\n",
    "default_piece = composer.compose_fourvoice()\n",
    "random_piece = composer.compose_fourvoice(method='random')\n",
    "root_piece = composer.compose_fourvoice(method='root')\n",
    "\n",
    "default_piece.draw(\"helloworld\", overwritename=\"Default Chord Voicings in %s %s\" % (k.key, k.tonality))\n",
    "random_piece.draw(\"randomworld\", overwritename=\"Random Chord Voicings in %s %s\" % (k.key, k.tonality))\n",
    "root_piece.draw(\"rootworld\", overwritename=\"Root Chord Voicings in %s %s\" % (k.key, k.tonality))\n",
    "\n",
    "#Results\n",
    "#C Perfect\n",
    "#D Inverted thirds (F#)\n",
    "#E Inverted seconds (F#)\n",
    "#F Open seconds (G)\n",
    "#G Perfect\n",
    "#A Inverted sixths (F#)\n",
    "#B Inverted fifths (F#)\n",
    "#C# Open 3rds, 5ths, 7ths (E#, G#, B#)\n",
    "#Db 7th is wrong/ Cdim has C3, C4, Eb4, (F4?)\n",
    "#Eb G minor is open. No A! (Actually Ab which is expected)\n",
    "#F# Inverted tonic\n",
    "#Gb IndexError for tenors (cant resolve Cb into range)\n",
    "#Ab 7th is wrong. Gdmin has Gb2, Gb3, C4, Ab4\n",
    "#Bb 6th is wrong. Gmin has an A again and it shouldn't. It's a thing.\n",
    "#Cb Index Error"
   ]
  },
  {
   "cell_type": "code",
   "execution_count": 22,
   "id": "f85c0351",
   "metadata": {},
   "outputs": [
    {
     "data": {
      "text/html": [
       "<img src=\"rootworld_0.jpg\" width=\"1000\" height=\"1000\"/>"
      ],
      "text/plain": [
       "<IPython.core.display.Image object>"
      ]
     },
     "execution_count": 22,
     "metadata": {},
     "output_type": "execute_result"
    }
   ],
   "source": [
    "Image(url=\"rootworld_0.jpg\", width=1000, height=1000)"
   ]
  },
  {
   "cell_type": "code",
   "execution_count": null,
   "id": "f3ebfa66-3da7-437b-80d2-907c2d267bad",
   "metadata": {},
   "outputs": [],
   "source": []
  }
 ],
 "metadata": {
  "kernelspec": {
   "display_name": "Python 3 (ipykernel)",
   "language": "python",
   "name": "python3"
  },
  "language_info": {
   "codemirror_mode": {
    "name": "ipython",
    "version": 3
   },
   "file_extension": ".py",
   "mimetype": "text/x-python",
   "name": "python",
   "nbconvert_exporter": "python",
   "pygments_lexer": "ipython3",
   "version": "3.9.10"
  }
 },
 "nbformat": 4,
 "nbformat_minor": 5
}
