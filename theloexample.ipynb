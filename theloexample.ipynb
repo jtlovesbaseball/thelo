{
 "cells": [
  {
   "cell_type": "code",
   "execution_count": 1,
   "id": "55e56bb5-635f-4185-9f5c-1f72344261bd",
   "metadata": {},
   "outputs": [],
   "source": [
    "import sys\n",
    "sys.path.append('src/')\n",
    "\n",
    "from Song import Song\n",
    "from Key import Key\n",
    "from Time import Time\n",
    "from Signature import Signature\n",
    "from Composer import Composer\n",
    "from Piece import Piece\n",
    "from Grader import Grader\n",
    "from IPython.display import Image"
   ]
  },
  {
   "cell_type": "code",
   "execution_count": 2,
   "id": "37d16752-0a63-463b-a1e3-5d9b5d9bf421",
   "metadata": {},
   "outputs": [],
   "source": [
    "# %%timeit\n",
    "#     # Creating the Key Signature, and Time Signature\n",
    "#     k = Key(key='A', tonality='major')\n",
    "#     t = Time(top=4, bottom=4, bpm=69, descriptor=\"Nice\")\n",
    "#     s = Signature(key=k, time=t)\n",
    "    \n",
    "#     # Initializing a song with the signature given above, and generating 1000 random chords\n",
    "#     # Chord Progressions must be valid resolutions/deceptions\n",
    "#     song = Song(\"Hello World in %s %s\" % (k.key, k.tonality), 'JT', s)\n",
    "#     song.generate_chords(n=36)\n",
    "    \n",
    "#     #Create a naive composer to assign the lowest note in the chord the voice can sound\n",
    "#     c = Composer()\n",
    "#     c.learn(song)\n",
    "#     piece = c.compose_fourvoice()\n",
    "    \n",
    "# piece.draw(\"helloworld\")"
   ]
  },
  {
   "cell_type": "code",
   "execution_count": 3,
   "id": "1feaf181-eae5-48eb-931f-759ac5d9a5c7",
   "metadata": {},
   "outputs": [],
   "source": [
    "# # Creating the Key Signature, and Time Signature\n",
    "# k = Key(key='C', tonality='major')\n",
    "# t = Time(top=4, bottom=4, bpm=69, descriptor=\"Nice\")\n",
    "# s = Signature(key=k, time=t)\n",
    "    \n",
    "# # Initializing a song with the signature given above, and generating 1000 random chords\n",
    "# # Chord Progressions must be valid resolutions/deceptions\n",
    "# song = Song(\"Random Chord Voicings in %s %s\" % (k.key, k.tonality), 'JT', s)\n",
    "# song.generate_chords(n=69)\n",
    "    \n",
    "# #Create a naive composer to assign the lowest note in the chord the voice can sound\n",
    "# composer = Composer()\n",
    "# composer.learn(song)\n",
    "\n",
    "# default_piece = composer.compose_fourvoice()\n",
    "# random_piece = composer.compose_fourvoice(method='random')\n",
    "# root_piece = composer.compose_fourvoice(method='root')\n",
    "# first_piece = composer.compose_fourvoice(method='first')\n",
    "# secon_piece = composer.compose_fourvoice(method='second')\n",
    "\n",
    "# default_piece.draw(\"helloworld\", overwritename=\"Default Chord Voicings in %s %s\" % (k.key, k.tonality), tenor_up=False)\n",
    "# random_piece.draw(\"randomworld\", overwritename=\"Random Chord Voicings in %s %s\" % (k.key, k.tonality), tenor_up=False)\n",
    "# root_piece.draw(\"rootworld\", overwritename=\"Root Chord Voicings in %s %s\" % (k.key, k.tonality))\n",
    "# first_piece.draw(\"firstworld\", overwritename=\"1st Inv Chord Voicings in %s %s\" % (k.key, k.tonality))\n",
    "# secon_piece.draw(\"secondworld\", overwritename=\"2nd Inv Chord Voicings in %s %s\" % (k.key, k.tonality), tenor_up=False)\n",
    "\n",
    "# Image(url=\"secondworld_0.jpg\", width=1000, height=1000)"
   ]
  },
  {
   "cell_type": "code",
   "execution_count": 4,
   "id": "93ff8dc5-af8a-4c6d-b0db-9765961aa8c5",
   "metadata": {},
   "outputs": [
    {
     "name": "stdout",
     "output_type": "stream",
     "text": [
      "Song strings Equal? True\n",
      "Piece strings Equal? True\n"
     ]
    }
   ],
   "source": [
    "# Creating the Key Signature, and Time Signature\n",
    "SONG_TITLE = 'song0.json'\n",
    "PIECE_TITLE = 'piece0.json'\n",
    "k = Key(key='C', tonality='major')\n",
    "t = Time(top=4, bottom=4, bpm=69, descriptor=\"Nice\")\n",
    "s = Signature(key=k, time=t)\n",
    "    \n",
    "# Initializing a song with the signature given above, and generating 1000 random chords\n",
    "# Chord Progressions must be valid resolutions/deceptions\n",
    "song_0 = Song(\"Random Chord Voicings in %s %s\" % (k.key, k.tonality), 'JT', s)\n",
    "song_0.generate_chords(n=69) \n",
    "composer_0 = Composer()\n",
    "composer_0.learn(song_0)\n",
    "piece_0 = composer_0.compose_fourvoice(method='first')\n",
    "# piece_0.draw(\"song_0\", overwritename=\"1st Inv Chord Voicings in %s %s\" % (k.key, k.tonality), tenor_up=False)\n",
    "\n",
    "\n",
    "song_0.serialize(SONG_TITLE)\n",
    "song_1 = Song.deserialize(SONG_TITLE)\n",
    "\n",
    "print(\"Song strings Equal?\", song_0.__str__() == song_1.__str__())\n",
    "\n",
    "\n",
    "composer_1 = Composer()\n",
    "composer_1.learn(song_1)\n",
    "piece_1 = composer_1.compose_fourvoice(method='random')\n",
    "# piece_1.draw(\"song_1\", overwritename=\"2nd Inv Chord Voicings in %s %s\" % (k.key, k.tonality), tenor_up=False)\n",
    "\n",
    "piece_1.serialize(PIECE_TITLE)\n",
    "piece_2 = Piece.deserialize(PIECE_TITLE)\n",
    "\n",
    "# piece_2.draw(\"song_2\", overwritename=\"2nd Inv Chord Voicings in %s %s\" % (k.key, k.tonality), tenor_up=False)\n",
    "print(\"Piece strings Equal?\", piece_1.__str__() == piece_2.__str__())\n",
    "\n"
   ]
  },
  {
   "cell_type": "code",
   "execution_count": null,
   "id": "2cfe5dbe-6e25-4082-b67b-435bd06eefc2",
   "metadata": {},
   "outputs": [],
   "source": []
  }
 ],
 "metadata": {
  "kernelspec": {
   "display_name": "Python 3 (ipykernel)",
   "language": "python",
   "name": "python3"
  },
  "language_info": {
   "codemirror_mode": {
    "name": "ipython",
    "version": 3
   },
   "file_extension": ".py",
   "mimetype": "text/x-python",
   "name": "python",
   "nbconvert_exporter": "python",
   "pygments_lexer": "ipython3",
   "version": "3.9.10"
  }
 },
 "nbformat": 4,
 "nbformat_minor": 5
}
