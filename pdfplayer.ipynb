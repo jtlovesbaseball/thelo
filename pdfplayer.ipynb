{
 "cells": [
  {
   "cell_type": "code",
   "execution_count": 1,
   "id": "47f43467-5381-4bdb-8d5b-5807a1bb24c6",
   "metadata": {},
   "outputs": [],
   "source": [
    "import cv2"
   ]
  },
  {
   "cell_type": "code",
   "execution_count": 2,
   "id": "be5a8db3-8998-4d56-97a7-6da81f3f287b",
   "metadata": {},
   "outputs": [],
   "source": [
    "a = cv2.imread(\"raw/demo.png\")"
   ]
  },
  {
   "cell_type": "code",
   "execution_count": 3,
   "id": "93a1f864-8017-401a-b41c-8adcbbd72cec",
   "metadata": {},
   "outputs": [
    {
     "data": {
      "text/plain": [
       "(1864, 1400, 3)"
      ]
     },
     "execution_count": 3,
     "metadata": {},
     "output_type": "execute_result"
    }
   ],
   "source": [
    "a.shape"
   ]
  },
  {
   "cell_type": "code",
   "execution_count": 4,
   "id": "41d3febd-9fab-474b-a0fb-7559f1150789",
   "metadata": {},
   "outputs": [],
   "source": [
    "# for i in range(a.shape[1]):\n",
    "#     if i%100 != 0:\n",
    "#         continue\n",
    "#     cv2.line(a, (i, 0), (i, 250), (255, 0, 0), 4)\n",
    "# for i in range(a.shape[0]):\n",
    "#     if i%100 != 0:\n",
    "#         continue\n",
    "#     cv2.line(a, (0, i), (250, i), (255, 0, 255), 4)\n",
    "# cv2.imwrite(\"foo.png\", a)"
   ]
  },
  {
   "cell_type": "code",
   "execution_count": 5,
   "id": "2a5b4435-e7d1-4d78-a440-fde957d00190",
   "metadata": {},
   "outputs": [],
   "source": [
    "from PageBlock import PageBlock\n",
    "page = PageBlock(\"Hello world in D Major\", \"JT Turner\")\n",
    "page.generate_blank_page()"
   ]
  },
  {
   "cell_type": "code",
   "execution_count": null,
   "id": "558a69a2-444c-4c36-a8f3-1809aad81d16",
   "metadata": {},
   "outputs": [],
   "source": []
  }
 ],
 "metadata": {
  "kernelspec": {
   "display_name": "Python 3",
   "language": "python",
   "name": "python3"
  },
  "language_info": {
   "codemirror_mode": {
    "name": "ipython",
    "version": 3
   },
   "file_extension": ".py",
   "mimetype": "text/x-python",
   "name": "python",
   "nbconvert_exporter": "python",
   "pygments_lexer": "ipython3",
   "version": "3.8.8"
  }
 },
 "nbformat": 4,
 "nbformat_minor": 5
}
