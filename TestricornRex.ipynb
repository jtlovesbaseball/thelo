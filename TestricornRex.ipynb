{
 "cells": [
  {
   "cell_type": "code",
   "execution_count": 1,
   "id": "50316882-5099-43f3-a0d8-bf53cc1976a2",
   "metadata": {},
   "outputs": [
    {
     "name": "stdout",
     "output_type": "stream",
     "text": [
      "Song Title: \"chord_hello_world_dmajor\"\n",
      "Composer: JT\n",
      "Signature info: Key: D major, Time: 4/4 (90 bpm)\n",
      "Chords: \n",
      "Chord: D major (Root Position) (2 measure) root: D |  3rd: F# |  5th: A \n",
      "\n",
      "Chord: D major (Root Position) (2 measure) root: D |  3rd: F# |  5th: A \n",
      "\n",
      "Chord: B minor (Root Position) (2 measure) root: B |  3rd: D |  5th: F# \n",
      "\n",
      "Chord: E minor (Root Position) (2 measure) root: E |  3rd: G |  5th: B \n",
      "\n",
      "Chord: C# dim (Root Position) (2 measure) root: C# |  3rd: E |  5th: G \n",
      "\n",
      "Chord: C# dim (Root Position) (2 measure) root: C# |  3rd: E |  5th: G \n",
      "\n",
      "Chord: C# dim (Root Position) (2 measure) root: C# |  3rd: E |  5th: G \n",
      "\n",
      "Chord: C# dim (Root Position) (2 measure) root: C# |  3rd: E |  5th: G \n",
      "\n",
      "Measures: \n",
      "[ Dmajor Dmajor Dmajor Dmajor]\n",
      "[ Dmajor Dmajor Dmajor Dmajor]\n",
      "[ Dmajor Dmajor Dmajor Dmajor]\n",
      "[ Dmajor Dmajor Dmajor Dmajor]\n",
      "[ Bminor Bminor Bminor Bminor]\n",
      "[ Bminor Bminor Bminor Bminor]\n",
      "[ Eminor Eminor Eminor Eminor]\n",
      "[ Eminor Eminor Eminor Eminor]\n",
      "[C#  dimC#  dimC#  dimC#  dim]\n",
      "[C#  dimC#  dimC#  dimC#  dim]\n",
      "[C#  dimC#  dimC#  dimC#  dim]\n",
      "[C#  dimC#  dimC#  dimC#  dim]\n",
      "[C#  dimC#  dimC#  dimC#  dim]\n",
      "[C#  dimC#  dimC#  dimC#  dim]\n",
      "[C#  dimC#  dimC#  dimC#  dim]\n",
      "[C#  dimC#  dimC#  dimC#  dim]\n",
      "\n"
     ]
    }
   ],
   "source": [
    "from Song import Song\n",
    "from Key import Key\n",
    "from Time import Time\n",
    "from Signature import Signature\n",
    "\n",
    "k = Key('D', 'major')\n",
    "t = Time(4, 4, 90)\n",
    "s = Signature(k, t)\n",
    "song = Song('chord_hello_world_dmajor', 'JT', s)\n",
    "song.generate_chords(8)\n",
    "\n",
    "print(song)"
   ]
  },
  {
   "cell_type": "code",
   "execution_count": null,
   "id": "b29691a1-7f9f-4627-998e-67bf176ad339",
   "metadata": {},
   "outputs": [],
   "source": []
  }
 ],
 "metadata": {
  "kernelspec": {
   "display_name": "Python 3",
   "language": "python",
   "name": "python3"
  },
  "language_info": {
   "codemirror_mode": {
    "name": "ipython",
    "version": 3
   },
   "file_extension": ".py",
   "mimetype": "text/x-python",
   "name": "python",
   "nbconvert_exporter": "python",
   "pygments_lexer": "ipython3",
   "version": "3.8.8"
  }
 },
 "nbformat": 4,
 "nbformat_minor": 5
}
