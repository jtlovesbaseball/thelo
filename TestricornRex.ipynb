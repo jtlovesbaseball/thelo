{
 "cells": [
  {
   "cell_type": "code",
   "execution_count": 1,
   "id": "50316882-5099-43f3-a0d8-bf53cc1976a2",
   "metadata": {},
   "outputs": [
    {
     "name": "stdout",
     "output_type": "stream",
     "text": [
      "Song Title: \"chord_hello_world_dmajor\"\n",
      "Composer: JT\n",
      "Signature info: Key: D major, Time: 4/4 (90 bpm)\n",
      "Chords: \n",
      "{'degree': 1, 'note': 'D', 'quality': 'major', 'chord': ['D', 'F#', 'A']}\n",
      "\n",
      "{'degree': 1, 'note': 'D', 'quality': 'major', 'chord': ['D', 'F#', 'A']}\n",
      "\n",
      "{'degree': 3, 'note': 'F#', 'quality': 'minor', 'chord': ['F#', 'A', 'C#']}\n",
      "\n",
      "{'degree': 6, 'note': 'B', 'quality': 'minor', 'chord': ['B', 'D', 'F#']}\n",
      "\n",
      "{'degree': 2, 'note': 'E', 'quality': 'minor', 'chord': ['E', 'G', 'B']}\n",
      "\n",
      "{'degree': 5, 'note': 'A', 'quality': 'major', 'chord': ['A', 'C#', 'E']}\n",
      "\n",
      "{'degree': 5, 'note': 'A', 'quality': 'major', 'chord': ['A', 'C#', 'E']}\n",
      "\n",
      "{'degree': 1, 'note': 'D', 'quality': 'major', 'chord': ['D', 'F#', 'A']}\n",
      "\n"
     ]
    }
   ],
   "source": [
    "from Song import Song\n",
    "from Key import Key\n",
    "from Time import Time\n",
    "from Signature import Signature\n",
    "\n",
    "k = Key('D', 'major')\n",
    "t = Time(4, 4, 90)\n",
    "s = Signature(k, t)\n",
    "song = Song('chord_hello_world_dmajor', 'JT', s)\n",
    "song.generate_chords(8)\n",
    "\n",
    "print(song)"
   ]
  },
  {
   "cell_type": "markdown",
   "id": "9e85fd81-16fe-490a-9ea1-e2f0b8f7ad46",
   "metadata": {},
   "source": [
    "# "
   ]
  }
 ],
 "metadata": {
  "kernelspec": {
   "display_name": "Python 3",
   "language": "python",
   "name": "python3"
  },
  "language_info": {
   "codemirror_mode": {
    "name": "ipython",
    "version": 3
   },
   "file_extension": ".py",
   "mimetype": "text/x-python",
   "name": "python",
   "nbconvert_exporter": "python",
   "pygments_lexer": "ipython3",
   "version": "3.8.8"
  }
 },
 "nbformat": 4,
 "nbformat_minor": 5
}
