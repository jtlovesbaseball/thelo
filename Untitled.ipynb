{
 "cells": [
  {
   "cell_type": "code",
   "execution_count": 1,
   "id": "70db01c8-eb82-4720-a3e8-f43aee088fc9",
   "metadata": {},
   "outputs": [
    {
     "name": "stdout",
     "output_type": "stream",
     "text": [
      "Benjamin is cool\n"
     ]
    }
   ],
   "source": [
    "a = \"Benjamin is cool\"\n",
    "print(a)"
   ]
  },
  {
   "cell_type": "code",
   "execution_count": 7,
   "id": "70cc7475-59a6-463d-9097-35a6fdef82c4",
   "metadata": {},
   "outputs": [
    {
     "name": "stdout",
     "output_type": "stream",
     "text": [
      "JT is cool\n",
      "Benjamin is cool 1 times\n",
      "JT is cool\n",
      "Benjamin is cool 3 times\n",
      "JT is cool\n",
      "Benjamin is cool 5 times\n",
      "JT is cool\n",
      "Benjamin is cool 7 times\n",
      "JT is cool\n",
      "Benjamin is cool 9 times\n",
      "JT is cool\n",
      "Benjamin is cool 11 times\n",
      "JT is cool\n",
      "Benjamin is cool 13 times\n",
      "JT is cool\n",
      "Benjamin is cool 15 times\n",
      "JT is cool\n",
      "Benjamin is cool 17 times\n",
      "JT is cool\n",
      "Benjamin is cool 19 times\n",
      "JT is cool\n",
      "Benjamin is cool 21 times\n",
      "JT is cool\n",
      "Benjamin is cool 23 times\n",
      "JT is cool\n",
      "Benjamin is cool 25 times\n",
      "JT is cool\n",
      "Benjamin is cool 27 times\n",
      "JT is cool\n",
      "Benjamin is cool 29 times\n",
      "JT is cool\n",
      "Benjamin is cool 31 times\n",
      "JT is cool\n",
      "Benjamin is cool 33 times\n",
      "JT is cool\n",
      "Benjamin is cool 35 times\n",
      "JT is cool\n",
      "Benjamin is cool 37 times\n",
      "JT is cool\n",
      "Benjamin is cool 39 times\n",
      "JT is cool\n",
      "Benjamin is cool 41 times\n",
      "JT is cool\n",
      "Benjamin is cool 43 times\n",
      "JT is cool\n",
      "Benjamin is cool 45 times\n",
      "JT is cool\n",
      "Benjamin is cool 47 times\n",
      "JT is cool\n",
      "Benjamin is cool 49 times\n"
     ]
    }
   ],
   "source": [
    "for i in range(50):\n",
    "    if i % 2 == 1:\n",
    "        print(\"%s %d times\" % (a, i))\n",
    "    else:\n",
    "        print(\"JT is cool\")"
   ]
  },
  {
   "cell_type": "code",
   "execution_count": 8,
   "id": "2fb00089-6df6-4e08-8d07-3233fe53694a",
   "metadata": {},
   "outputs": [
    {
     "name": "stdout",
     "output_type": "stream",
     "text": [
      "Hello world!\n"
     ]
    }
   ],
   "source": [
    "print(\"Hello world!\")"
   ]
  }
 ],
 "metadata": {
  "kernelspec": {
   "display_name": "Python 3 (ipykernel)",
   "language": "python",
   "name": "python3"
  },
  "language_info": {
   "codemirror_mode": {
    "name": "ipython",
    "version": 3
   },
   "file_extension": ".py",
   "mimetype": "text/x-python",
   "name": "python",
   "nbconvert_exporter": "python",
   "pygments_lexer": "ipython3",
   "version": "3.9.9"
  }
 },
 "nbformat": 4,
 "nbformat_minor": 5
}
