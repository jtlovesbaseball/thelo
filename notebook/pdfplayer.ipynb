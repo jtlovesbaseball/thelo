{
 "cells": [
  {
   "cell_type": "code",
   "execution_count": 12,
   "id": "47f43467-5381-4bdb-8d5b-5807a1bb24c6",
   "metadata": {},
   "outputs": [
    {
     "name": "stdout",
     "output_type": "stream",
     "text": [
      "C:\\Users\\JT\\Documents\\MusicTheory\\thelo\\notebook\n"
     ]
    }
   ],
   "source": [
    "import cv2\n",
    "import os.path as osp\n",
    "print(osp.abspath('.'))"
   ]
  },
  {
   "cell_type": "code",
   "execution_count": 2,
   "id": "be5a8db3-8998-4d56-97a7-6da81f3f287b",
   "metadata": {},
   "outputs": [],
   "source": [
    "a = cv2.imread(\"raw/demo.png\")"
   ]
  },
  {
   "cell_type": "code",
   "execution_count": 3,
   "id": "93a1f864-8017-401a-b41c-8adcbbd72cec",
   "metadata": {},
   "outputs": [
    {
     "ename": "AttributeError",
     "evalue": "'NoneType' object has no attribute 'shape'",
     "output_type": "error",
     "traceback": [
      "\u001b[1;31m---------------------------------------------------------------------------\u001b[0m",
      "\u001b[1;31mAttributeError\u001b[0m                            Traceback (most recent call last)",
      "\u001b[1;32m~\\AppData\\Local\\Temp/ipykernel_14196/1739083353.py\u001b[0m in \u001b[0;36m<module>\u001b[1;34m\u001b[0m\n\u001b[1;32m----> 1\u001b[1;33m \u001b[0ma\u001b[0m\u001b[1;33m.\u001b[0m\u001b[0mshape\u001b[0m\u001b[1;33m\u001b[0m\u001b[1;33m\u001b[0m\u001b[0m\n\u001b[0m",
      "\u001b[1;31mAttributeError\u001b[0m: 'NoneType' object has no attribute 'shape'"
     ]
    }
   ],
   "source": [
    "a.shape"
   ]
  },
  {
   "cell_type": "code",
   "execution_count": null,
   "id": "41d3febd-9fab-474b-a0fb-7559f1150789",
   "metadata": {},
   "outputs": [],
   "source": [
    "# for i in range(a.shape[1]):\n",
    "#     if i%100 != 0:\n",
    "#         continue\n",
    "#     cv2.line(a, (i, 0), (i, 250), (255, 0, 0), 4)\n",
    "# for i in range(a.shape[0]):\n",
    "#     if i%100 != 0:\n",
    "#         continue\n",
    "#     cv2.line(a, (0, i), (250, i), (255, 0, 255), 4)\n",
    "# cv2.imwrite(\"foo.png\", a)"
   ]
  },
  {
   "cell_type": "code",
   "execution_count": null,
   "id": "2a5b4435-e7d1-4d78-a440-fde957d00190",
   "metadata": {},
   "outputs": [],
   "source": [
    "from PageBlock import PageBlock\n",
    "from Song import Song\n",
    "from Key import Key\n",
    "from Time import Time\n",
    "from Signature import Signature\n",
    "\n",
    "k = Key('D', 'major')\n",
    "t = Time(4, 4, 90)\n",
    "s = Signature(k, t)\n",
    "song = Song('chord_hello_world_dmajor', 'JT', s)\n",
    "song.generate_chords(8)\n",
    "\n",
    "page = PageBlock(\"Hello world in D Major\", \"JT Turner\")\n",
    "page.generate_blank_page()"
   ]
  },
  {
   "cell_type": "code",
   "execution_count": null,
   "id": "558a69a2-444c-4c36-a8f3-1809aad81d16",
   "metadata": {},
   "outputs": [],
   "source": []
  }
 ],
 "metadata": {
  "kernelspec": {
   "display_name": "Python 3 (ipykernel)",
   "language": "python",
   "name": "python3"
  },
  "language_info": {
   "codemirror_mode": {
    "name": "ipython",
    "version": 3
   },
   "file_extension": ".py",
   "mimetype": "text/x-python",
   "name": "python",
   "nbconvert_exporter": "python",
   "pygments_lexer": "ipython3",
   "version": "3.9.9"
  }
 },
 "nbformat": 4,
 "nbformat_minor": 5
}
